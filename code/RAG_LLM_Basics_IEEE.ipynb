{
  "cells": [
    {
      "cell_type": "markdown",
      "metadata": {
        "id": "FZ43wPCpLEV4"
      },
      "source": [
        "## **A simple Q&A application over a PDF data source**"
      ]
    },
    {
      "cell_type": "markdown",
      "metadata": {
        "id": "J9juKsDVLEV4"
      },
      "source": [
        "### **Installing Required Libraries**"
      ]
    },
    {
      "cell_type": "code",
      "execution_count": null,
      "metadata": {
        "id": "hvHfbOlELEV4"
      },
      "outputs": [],
      "source": [
        "%pip install langchain langchain-google-genai langchain-community faiss-cpu PyPDF2"
      ]
    },
    {
      "cell_type": "code",
      "execution_count": null,
      "metadata": {
        "id": "wcU7JVqdLEV5"
      },
      "outputs": [],
      "source": [
        "%pip install --upgrade pip"
      ]
    },
    {
      "cell_type": "markdown",
      "metadata": {
        "id": "UL-13MiUcAJG"
      },
      "source": [
        "### **API Key Configuration**"
      ]
    },
    {
      "cell_type": "code",
      "execution_count": null,
      "metadata": {
        "id": "96obavoPcEyv"
      },
      "outputs": [],
      "source": [
        "import os\n",
        "\n",
        "os.environ[\"GOOGLE_API_KEY\"] = \"chave-aqui\""
      ]
    },
    {
      "cell_type": "markdown",
      "metadata": {
        "id": "hngYJDS6LEV5"
      },
      "source": [
        "### **Basic RAG**"
      ]
    },
    {
      "cell_type": "code",
      "execution_count": 41,
      "metadata": {
        "id": "JLkoh2VmLEV5"
      },
      "outputs": [],
      "source": [
        "# Libriries\n",
        "from langchain_google_genai import GoogleGenerativeAIEmbeddings\n",
        "from langchain_community.vectorstores import FAISS\n",
        "from langchain.schema import Document\n",
        "from langchain_google_genai import ChatGoogleGenerativeAI\n",
        "from langchain_core.prompts import ChatPromptTemplate\n",
        "from langchain_text_splitters import RecursiveCharacterTextSplitter\n",
        "import PyPDF2"
      ]
    },
    {
      "cell_type": "markdown",
      "metadata": {
        "id": "bCAVnzwmvb0y"
      },
      "source": [
        "#### **Sobre o documento utilizado**\n",
        "\n",
        "Boletim informativo nº 88 da Câmara de Comercialização de Energia Elétrica (CCEE), referente ao mês de agosto de 2025. O objetivo principal do boletim é detalhar a memória de cálculo utilizada como subsídio para a ANEEL (Agência Nacional de Energia Elétrica) no processo de acionamento das bandeiras tarifárias."
      ]
    },
    {
      "cell_type": "code",
      "execution_count": null,
      "metadata": {
        "id": "fAFk0p8gLEV5"
      },
      "outputs": [],
      "source": [
        "# Define uma variável 'path' com o caminho do arquivo PDF a ser lido.\n",
        "path = \"/content/bandeira_tarifaria.pdf\"\n",
        "\n",
        "# Inicia uma variável de texto vazia para armazenar o conteúdo do PDF\n",
        "document = \"\"\n",
        "\n",
        "# Abre o arquivo PDF no caminho especificado\n",
        "with open(path, 'rb') as arquivo_pdf:\n",
        "\n",
        "  # Carrega o arquivo na ferramenta que sabe como ler o conteúdo de PDFs\n",
        "  leitor_pdf = PyPDF2.PdfReader(arquivo_pdf)\n",
        "\n",
        "  # Cria um laço para \"folhear\" cada página do arquivo, uma por uma\n",
        "  for pagina in leitor_pdf.pages:\n",
        "\n",
        "    # Pega todo o texto da página atual e o adiciona à nossa variável\n",
        "    document += pagina.extract_text() + \"\\n\""
      ]
    },
    {
      "cell_type": "code",
      "execution_count": 54,
      "metadata": {
        "colab": {
          "base_uri": "https://localhost:8080/",
          "height": 140
        },
        "id": "Tr9NstFBvr1_",
        "outputId": "4dfc263b-af72-4073-9dee-093911766136"
      },
      "outputs": [
        {
          "data": {
            "application/vnd.google.colaboratory.intrinsic+json": {
              "type": "string"
            },
            "text/plain": [
              "' \\n \\n \\n \\nwww.ccee.org.br Nº 88 - agosto/2025 0800 881 2233 \\n \\n \\n \\n \\n \\n \\nDesde novembro de 2017, a metodologia de acionamento das bandeiras tarifárias se \\nalterou, com a finalidade de melhorar a arrecadação de recursos para fazer frente a \\nimportantes obrigações financeiras de curto prazo que recaem sobre o fluxo de caixa \\ndas Distribuidoras, vinculados aos custos variáveis (custos de geração por fonte \\ntermelétrica e da exposição aos preços de liquidação no mercado de curto prazo) \\ndecorrentes do resultado da operação do Sistema Interligado Nacional – SIN1. \\nA sistemática de acionamento da bandeira tarifária aplicada até o mês de abril de 2018 \\nseguia o descrito nas Notas Técnicas nº 133/2017-SRG-SEM-SGT/ANEEL e nº 136/2017-\\nSRG-SEM-SGT/ANEEL, que suportavam a Audiência Pública nº 61/2017, da ANEEL, que \\ntinha como objetivo obter subsídios para a revisão da metodologia das Bandeiras \\nTarifárias. O voto do diretor relator do processo na ANEEL, que decidiu pela abertura da \\nAP citada no período de 26 de outubro a 27 de dezembro de 2017, também votou, por \\naplicar a sistemática em caráter extraordinário, a partir de novembro de 2017, diante \\nda relevante perspectiva de aprimoramento nela embutida e de sua potencial \\nrepercussão positiva sobre o acionamento das Bandeiras Tarifárias no curto prazo.  \\nPara o fechamento da primeira fase da AP nº 61/2017, a ANEEL divulgou a Nota Técnica \\nnº 040/2018-SRG-SRM-SGT/ANEEL com as considerações da AP em relação aos temas: \\ndefinição dos valores; regra de acionamento; e tratamento da cobertura tarifária. Nesta \\nNT foi definida a nova sistemática de acionamento da bandeira tarifária, com alterações \\nem relação a metodologia anteriormente aplicada. O voto do diretor relator do processo \\nna ANEEL foi de concluir a primeira fase da AP e pela aplicação da nova metodologia \\npara Bandeiras Tarifárias a partir do Programa Mensal da Operação (PMO) de dezembro \\nde 2018. \\nEm 2019, foi realizada e concluída a AP nº 08/2019, que revisou a metodologia de \\nacionamento das bandeiras tarifárias. Essa nova metodologia foi aprovada para \\nutilização a partir do mês de junho de 2019 e teve como principais alterações a revisão \\ndas faixas de acionamento da bandeira tarifária e também a consideração da garantia \\nfísica “Flat” para balizar a determinação do 𝐺𝑆𝐹\\u0bd5\\u0bd4\\u0be1ௗ.  \\nA partir de 1º de abril de 2024, através da REH 3.306/2024 e da REN 1.084/2024, a ANEEL \\nestabeleceu novas faixas de acionamento e adicionais das bandeiras tarifárias, no que \\nse refere a ocorrência de despacho termelétrico por razões de segurança energética, \\ndefinido fora da ordem de mérito econômico pelo Comitê de Monitoramento do Setor \\nElétrico – CMSE. \\nEste boletim tem o objetivo de detalhar a memória de cálculo que foi considerada como \\nsubsídio pela ANEEL para acionamento das bandeiras tarifárias. \\nMetodologia para definição da Bandeira Tarifária \\nOs valores das faixas de Preço de Liquidação das Diferenças – PLD para estabelecimento \\nda cor da bandeira tarifária que será vigente para o mês de agosto de 2025 são definidos \\nde acordo com os valores resultantes do cálculo dos PLDs limites e superiores das faixas \\nde acionamento. \\nO 𝑃𝐿𝐷\\u0bdf\\u0bdc\\u0be0\\u0bdc\\u0be1\\u0bd9_\\u0be3\\u0bd4௧ e o 𝑃𝐿𝐷\\u0bdf\\u0bdc\\u0be0௦௨\\u0be3_\\u0be3\\u0bd4௧ das diferentes faixas para o acionamento das \\nbandeiras tarifárias são determinados conforme as equações abaixo, definidas na Nota \\nTécnica nº 025/2019-SGT-SRG-SRM /ANEEL (uma versão mais recente do Ábaco de \\nAcionamento das Bandeiras Tarifárias pode ser encontrada no Anexo I da Resolução \\nHomologatória ANEEL 3.306/2024): \\n𝑷𝑳𝑫𝒍𝒊𝒎𝒊𝒏𝒇_𝒑𝒂𝒕 = 𝒎𝒊𝒏൦𝑷𝑳𝑫𝒎𝒂𝒙, 𝒎𝒂𝒙\\u124e𝑷𝑳𝑫𝒎𝒊𝒏 ,𝑳𝒊𝒎𝑰𝒏𝒇𝑷𝒂𝒕\\nቀ𝟏−𝑮𝑯𝒃𝒂𝒏𝒅\\n𝑮𝑭𝒃𝒂𝒏𝒅ቁ\\u124f൪ \\n𝑷𝑳𝑫𝒍𝒊𝒎𝒔𝒖𝒑_𝒑𝒂𝒕 = 𝒎𝒊𝒏൦𝑷𝑳𝑫𝒎𝒂𝒙, 𝒎𝒂𝒙\\u124e𝑷𝑳𝑫𝒎𝒊𝒏 ,𝑳𝒊𝒎𝑺𝒖𝒑𝑷𝒂𝒕\\nቀ𝟏−𝑮𝑯𝒃𝒂𝒏𝒅\\n𝑮𝑭𝒃𝒂𝒏𝒅ቁ\\u124f൪ \\nOnde: \\n𝑃𝐿𝐷\\u0be0\\u0bd4௫ – Valor máximo do PLD regulamentado pela ANEEL \\n𝑃𝐿𝐷\\u0be0\\u0bdc\\u0be1 – Valor mínimo do PLD regulamentado pela ANEEL \\n𝐺𝐻\\u0bd5\\u0bd4\\u0be1ௗ – Previsão de Geração Hidráulica total do MRE sinalizada pelo Programa Mensal \\nde Operação – PMO, ajustada pelos fatores de redução da CCEE \\n𝐺𝐹\\u0bd5\\u0bd4\\u0be1ௗ – Valor de garantia física concebido para as Bandeiras Tarifárias, segundo as \\nespecificidades apresentadas na NT nº 025/2019-SGT-SRG-SRM/ANEEL \\n𝐿𝑖𝑚𝐼𝑛𝑓𝑃𝑎𝑡  – Limite inferior do correspondente patamar de Bandeira Tarifária \\n \\n1 Nota Técnica 133/2017-SRG-SEM-SGT/ANEEL. 𝐿𝑖𝑚𝑆𝑢𝑝𝑃𝑎𝑡  – Limite superior do correspondente patamar de Bandeira Tarifária. \\nPara o acionamento da bandeira são consideradas as faixas de acordo com o ilustrado \\nna Tabela 1. \\nTabela 1 – Faixas para acionamento das bandeiras \\nCor da Bandeira Gatilho \\nVerde 𝑃𝐿𝐷\\u0be0\\u0bdc\\u0be1≤𝑃𝐿𝐷\\u0bda\\u0bd4௧\\u0bdc\\u0bdf\\u0bdb\\u0be2≤𝑃𝐿𝐷\\u0bdf\\u0bdc\\u0be0௦௨\\u0be3_௩\\u0bd8\\u0be5ௗ\\u0bd8 \\nAmarela 𝑃𝐿𝐷\\u0bdf\\u0bdc\\u0be0\\u0bdc\\u0be1\\u0bd9_\\u0bd4\\u0be0\\u0bd4\\u0be5\\u0bd8\\u0bdf\\u0bd4<𝑃𝐿𝐷\\u0bda\\u0bd4௧\\u0bdc\\u0bdf\\u0bdb\\u0be2≤𝑃𝐿𝐷\\u0bdf\\u0bdc\\u0be0௦௨\\u0be3_\\u0bd4\\u0be0\\u0bd4\\u0be5\\u0bd8\\u0bdf\\u0bd4 \\nVermelha 1 𝑃𝐿𝐷\\u0bdf\\u0bdc\\u0be0\\u0bdc\\u0be1\\u0bd9_௩\\u0bd8\\u0be5\\u0be0\\u0bd8\\u0bdf\\u0bdb\\u0be2ଵ<𝑃𝐿𝐷\\u0bda\\u0bd4௧\\u0bdc\\u0bdf\\u0bdb\\u0be2≤𝑃𝐿𝐷\\u0bdf\\u0bdc\\u0be0௦௨\\u0be3_௩\\u0bd8\\u0be5\\u0be0\\u0bd8\\u0bdf\\u0bdb\\u0be2ଵ \\nVermelha 2 𝑃𝐿𝐷\\u0bdf\\u0bdc\\u0be0\\u0bdc\\u0be1\\u0bd9_௩\\u0bd8\\u0be5\\u0be0\\u0bd8\\u0bdf\\u0bdb\\u0be2ଶ<𝑃𝐿𝐷\\u0bda\\u0bd4௧\\u0bdc\\u0bdf\\u0bdb\\u0be2≤𝑃𝐿𝐷\\u0be0\\u0bd4௫ \\nPara as situações específicas de despacho termelétrico definido fora da ordem de mérito \\neconômico, Geração Fora da Ordem de Mérito – GFOM, são considerados o \\nacionamento composto conforme apresentado na Tabela 2. \\nTabela 2 – Faixas de acionamento específico para situações de despacho termelétrico definido fora \\nda ordem de mérito econômico \\n \\nInformações para definição da Bandeira Tarifária \\nNesta seção é demonstrada a obtenção dos valores das variáveis utilizadas na definição \\nda Bandeira Tarifária do mês de agosto de 2025. \\ni) Previsão de Geração Hidráulica Total do MRE - 𝑮𝑯𝒃𝒂𝒏𝒅 \\nOs valores de expectativa de geração das usinas hidráulicas que balizam o cálculo do \\n𝐺𝐻\\u0bd5\\u0bd4\\u0be1ௗ são encaminhados pelo Operador Nacional do Sistema – ONS à Câmara de \\nComercialização de Energia Elétrica – CCEE. Os valores encaminhados pelo ONS já \\nconsideram à geração termelétrica e/ou importação por segurança energética quando \\nhouver determinação do Comitê de Monitoramento do Setor Elétrico; ressaltamos que \\nsobre estes valores são retiradas as parcelas de geração referentes: ao atendimento de \\nItaipu à carga do Paraguai e ao seu consumo interno; e à aplicação de fatores apurados \\npela CCEE com o objetivo de representar a geração participante do MRE no Centro de \\nGravidade. \\nA seguir são descritos os fatores aplicados pela CCEE nos valores de geração hidráulica \\nencaminhados pelo ONS: \\n\\uf0b7 Geração Hidráulica (Bruta para Conexão): representa a perda na geração \\ndas usinas hidrelétricas entre o ponto de medição bruta e o ponto de \\nmedição de conexão com a rede de transmissão; \\n\\uf0b7 Geração Hidráulica (Conexão para Centro de Gravidade): representa a \\naplicação dos fatores de perda da rede básica sobre a geração das usinas \\nhidrelétricas; \\n\\uf0b7 Participação de PCH (Pequenas Centrais Hidrelétricas) e CGH (Centrais de \\nGeração Hidrelétrica) no MRE: representa a parcela da geração de PCHs e \\nCGHs que participam do MRE; \\n\\uf0b7 PCH e CGH (Conexão para Centro de Gravidade): representa a aplicação dos \\nfatores de perda da rede básica para as usinas (PCH e CGH) participantes \\ndo rateio das perdas da rede básica. \\nPara a apuração dos fatores aplicados pela CCEE, uma vez que os dados de 2024 foram \\nconsolidados, são considerados as médias dos dados verificados para cada parcela ao \\nlongo do deste ano. Os resultados apurados para cada fator são apresentados na Tabela \\n3. \\n \\n Acionamento \\nOriginalDespacho Térmico Total \\n(MWm)Acionamento \\nCompostoAdicional \\n(R$/MWh)\\n<= 6.962 Verde 0\\n> 6.962 e <= 11.362 Amarela 18,85\\n> 11.362 e <= 14.262 Vermelha 1 44,63\\n> 14.262 e <= 16.562 Vermelha 2 78,77\\n<= 9.262 Amarela 18,85\\n> 9.262 e <= 12.162 Vermelha 1 44,63\\n> 12.162 e <= 16.562 Vermelha 2 78,77\\n<= 11.462 Vermelha 1 44,63\\n> 11.462 e <= 14.262 Vermelha 2 78,77\\nVermelho 2 <= 11.762 Vermelha 2 78,77Verde\\nAmarelo\\nVermelho 1\\n \\n \\n \\n0800 881 2233 ● www.ccee.org.br ● agosto/2025 \\n \\n \\n \\nO conteúdo desta publicação foi produzido pela CCEE com base em dados e informações de conhecimento público. É de responsabilidade exclusiva \\ndos agentes e demais interessados a obtenção de outros dados e informações, a realização de análises, estudos e avaliações para fins de tomada \\nde decisões, definição de estratégias de atuação, assunção de compromissos e obrigações e quaisquer outras finalidades, em qualquer tempo e \\nsob qualquer condição. É proibida a reprodução ou utilização total ou parcial do presente sem a identificação da fonte. \\n2 \\n \\n \\nTabela 3 – Fatores Aplicados à Geração Com Base na Média de 2024 \\n \\nEsses fatores, bem como a periodicidade de sua atualização, foram validados pela ANEEL \\npor meio do Ofício nº 068/2018 – SRG/ANEEL. \\nA geração total das usinas hidrelétricas é encaminhada pelo ONS para o mês de agosto \\nde 2025 e são ilustradas na Tabela 4, ressaltamos que os valores de geração hidráulica \\nsão resultados da execução do modelo DECOMP da revisão 0 do Programa Mensal da \\nOperação2. \\nTabela 4 – Geração Média Mensal com Segurança Energética  \\n \\nÉ descontada da geração hidrelétrica apresentada na Tabela 4, a parcela da geração da \\nusina hidrelétrica de Itaipu alocada para atendimento da carga do Paraguai (ANDE) e o \\nconsumo interno da usina explicitados na entrada de dados dos modelos \\ncomputacionais utilizados no cálculo do PLD e do Custo Marginal de Operação – CMO \\ndo ONS3, cujo somatório é apresentado na Tabela 5. \\nTabela 5 – Previsão de Geração de Itaipu para Atendimento da Carga do Paraguai e Consumo \\nInterno da Usina \\n \\nApós a obtenção da geração hidrelétrica descontados os valores de ANDE e consumo \\ninterno da UHE Itaipu, são aplicados os fatores apresentados na Tabela 3, com a \\nfinalidade de levar a geração hidráulica bruta para o ponto de conexão da usina e, \\nposteriormente, para levar o valor do ponto de conexão da usina para o centro de \\ngravidade. Desta forma, são obtidos os valores de geração das usinas hidrelétricas no \\ncentro de gravidade conforme Tabela 6.  \\nTabela 6 – Previsão de Geração das Usinas Hidrelétricas no Centro de Gravidade \\n \\nAlém da geração das usinas hidrelétrica no centro de gravidade, são considerados os \\nfatores da Tabela 3, com o intuito de representar a geração referente às PCHs e às CGHs4 \\nparticipante do MRE no centro de gravidade. As expectativas de geração destas fontes, \\nbem como seus valores no centro de gravidade são ilustradas na Tabela 7. \\nTabela 7 – Previsão de Geração de Pequenas Centrais Hidrelétricas pertencentes ao MRE \\n \\nA previsão de geração hidráulica total do MRE ( 𝐺𝐻\\u0bd5\\u0bd4\\u0be1ௗ) para o acionamento da \\nBandeira Tarifária no centro de gravidade é mostrada na Tabela 8. \\n \\n \\n \\n \\n2 A previsão de geração hidráulica enviada pelo ONS utiliza como base os valores de geração hidráulica \\npor usina, apresentados no arquivo “sumario.rv0”, obtido da execução do modelo DECOMP da revisão \\n0 do Programa Mensal da Operação, do ONS. \\n3 A previsão de geração de Itaipu e consumo interno são informados no arquivo de entrada de dados \\n“c_adic.dat” do modelo NEWAVE. \\n4 A expectativa da geração de PCHs e CGHs pode ser encontrada na planilha \\n“Usinas_não_simuladas_ago25.xlsx”, disponibilizada no SINtegre pelo ONS. Tabela 8 – Previsão de Geração Hidráulica do MRE no Centro de Gravidade \\n \\nii) Garantia Física Concebida para as Bandeiras Tarifárias - 𝑮𝑭𝒃𝒂𝒏𝒅 \\nConforme apresentado na Nota Técnica nº 35/2019-SRG-SRT- SRM/ANEEL, a GF band é \\nobtida considerando os valores de garantia física sazonalizada (100%), com o intuito de \\nGSF Flat tem maior correlação com as variáveis físicas do sistema e retira o componente \\nde estratégia comercial das geradoras da regra de acionamento, além de refletir o risco \\nhidrológico assumido pelas distribuidoras (consumidores cativos). \\nPara a garantia física “flat” de agosto de 2025 são considerados os valores de garantia \\nfísica sazonalizada apresentados no InfoMercado - Dados Abertos5, aplicando sobre \\nestes a proporção de sazonalização de agosto de 2025 (0,086759282945), conforme \\ndivulgado no conforme divulgado no Comunicado nº 071/25, de 24 de janeiro de 2025, \\ncom o intuito de obter o valor de garantia física “flat”. Além disso, são consideradas \\npossíveis expansões de garantia física devido à entrada em operação comercial de novas \\nunidades geradoras de usinas hidrelétricas conforme apresentado na Tabela 9. \\nTabela 9 – Garantia física “flat” \\n \\nSobre esse montante de garantia física são abatidas as perdas internas e de rede básica, \\ne o fator de disponibilidade, considerando estes valores com base no histórico de 12 \\nmeses6. Os valores de expectativa da garantia física “flat”, que é o valor da GF band, para \\no mês de agosto de 2025 são ilustrados na Tabela 10. \\nTabela 10 – Garantia Física Concebido para as Bandeiras Tarifárias \\n \\niii) Preço de Liquidação das Diferenças Gatilho - 𝑷𝑳𝑫𝒈𝒂𝒕𝒊𝒍𝒉𝒐 \\nO 𝑃𝐿𝐷\\u0bda\\u0bd4௧\\u0bdc\\u0bdf considerado para o acionamento da bandeira é calculado ponderando o \\nPLD médio mensal de cada submercado (obtido da execução do cálculo da Função de \\nCusto Futuro do modelo DECOMP da primeira semana operativa do mês de agosto de \\n2025 e a expectativa desta mesma execução para as próximas semanas do mês) pela \\nsua respectiva carga média mensal (disponível nos dados de entrada no modelo \\nDECOMP para a primeira semana e a expectativa para todas as semanas deste mesmo \\nmês), os quais são calculados considerando a duração de cada patamar por semana \\noperativa7 para o mês civil. A Tabela 11 mostra as durações de cada patamar para cada \\nsemana do mês de agosto de 2025. \\n \\n \\n5 Conjunto de dados “GARANTIA_FISICA_SAZO_SUBMERCADO”, coluna “GF_SAZO_ \\nUSINAS_MRE_MOTORIZADA”, atualizado em 02 de julho de 2025 \\n6 Disponível no conjunto de dados “MRE_MENSAL”, coluna “FATOR_REDUCAO_ ACUMULADO” \\ndisponível até o mês de junho de 2025  \\n7 Conforme disponível na planilha “Patamares Consolidados por Semana e Mês”, disponível no site da \\nCCEE > Documentos > Acervo CCEE > Buscar “Patamares de Carga” 1,335%\\n2,151%\\n64,973%\\n0,076%Perda de Geração Hidráulica (Conexão p/ Centro de Gravidade)\\nParticipação de PCH e CGH no MRE\\nPerda de PCH e CGH (Conexão p/ Centro de Gravidade)Perda de Geração Hidráulica (Bruta p/ Conexão)Fatores Aplicados à Geração Com Base na Média de 2024\\nPesada Média Leve (MWh) (MWmed)\\n5.390.741 10.845.428 10.147.450 26.383.619 35.462Geração Média Mensal Com Segurança Energética do SIN\\nPor Patamar (MWh) Total\\nGeração (MWmed)\\nANDE + C. I. Itaipu 2.610\\nGeração (MWmed)\\nGH ONS 35.462\\nANDE + C. I. Itaipu 2.610\\nGH Bruta 32.852\\nGH Conexão 32.413\\nGH Centro Grav. 31.716\\nSubmercadoPrev. de \\nGeraçãoTotalParticipação \\nno MREPart. MRE no \\nCentro Grav.\\nSudeste 1.362\\nSul 1.013\\nNordeste 75\\nNorte 1012.551 1.657PCH e CGH (MWmed)\\n1.656Geração (MWmed)\\nGH Centro Grav. 31.716\\nPCH e CGH Centro Grav. 1.656\\nGHband 33.372\\nSubmercadoGarantia Física \\nSazonalizada sem \\nexpansão \\n(MWmed)Garantia Física \\n\"Flat\" sem \\nexpansãoExpansão de \\nGarantia Física \\n(MWmed)\\nSudeste 33.057 32.360 0\\nSul 8.296 8.122 0\\nNordeste 5.062 4.955 0\\nNorte 10.184 9.970 0\\nSIN 56.599 55.407 0\\nSubmercadoGarantia Física \\n\"Flat\" (MWmed)Garantia Física \\n\"Flat\" deduzida as \\nperdas (MWmed)GFband \\n(MWmed)\\nSudeste 32.360 30.973\\nSul 8.122 7.773\\nNordeste 4.955 4.742\\nNorte 9.970 9.543\\nSIN 55.407 53.03253.032\\n \\n \\n \\n0800 881 2233 ● www.ccee.org.br ● agosto/2025 \\n \\n \\n \\nO conteúdo desta publicação foi produzido pela CCEE com base em dados e informações de conhecimento público. É de responsabilidade exclusiva \\ndos agentes e demais interessados a obtenção de outros dados e informações, a realização de análises, estudos e avaliações para fins de tomada \\nde decisões, definição de estratégias de atuação, assunção de compromissos e obrigações e quaisquer outras finalidades, em qualquer tempo e \\nsob qualquer condição. É proibida a reprodução ou utilização total ou parcial do presente sem a identificação da fonte. \\n3 \\n \\n \\n \\nTabela 11 – Número de horas de cada semana e patamar de carga para o mês de agosto de 2025 \\n \\nOs valores de PLD para o cálculo do PLD gatilho, considerando a média mensal são \\nobtidos da simulação do DECOMP da primeira semana operativa de agosto de 2025 do \\ncálculo do PLD, o mesmo que estabelece a função de custo futuro para o modelo \\nDESSEM da primeira semana operativa do mês, e uma expectativa de PLD para as \\npróximas semanas8. Estes valores de expectativa de PLD para cada semana são \\napresentados na Tabela 12. \\nTabela 12 – Resultado da Função de Custo Futuro do DECOMP para a primeira semana de agosto e \\nexpectativa para as demais semanas \\n \\nOs valores de carga prevista para cada semana9, utilizados no cálculo da carga média \\nmensal de cada submercado para ponderar o PLD médio mensal de cada submercado, \\nsão apresentados na Tabela 13. \\nTabela 13 – Expectativa de carga para cada semana e patamar e a média mensal de agosto de 2025 \\npor submercado \\n \\nDesta forma, a Tabela 14 ilustra o 𝑃𝐿𝐷\\u0bda\\u0bd4௧\\u0bdc\\u0bdf de agosto de 2025: \\nTabela 14 – PLD gatilho de agosto de 2025 \\n \\nDefinição da Bandeira Tarifária de agosto de 2025 \\nPara agosto de 2025, os valores considerados para cada variável estão ilustrados na \\nTabela 15: \\nTabela 15 – Valores das Variáveis para definição da Bandeira Tarifária \\nVariável Valor \\n𝑷𝑳𝑫𝒎𝒂𝒙_𝒆𝒔𝒕𝒓𝒖𝒕𝒖𝒓𝒂𝒍 (𝑹$/𝑴𝑾𝒉) 751,73 \\n𝑷𝑳𝑫𝒎𝒊𝒏 (𝑹$/𝑴𝑾𝒉) 58,60 \\n𝑮𝑯𝒃𝒂𝒏𝒅 (𝑴𝑾𝒎𝒆𝒅 ) 33.372 \\n𝑮𝑭𝒃𝒂𝒏𝒅 (𝑴𝑾𝒎𝒆𝒅 ) 53.032 \\n𝑮𝑺𝑭𝒃𝒂𝒏𝒅 0,63 \\n𝑷𝑳𝑫𝒈𝒂𝒕𝒊𝒍𝒉𝒐(𝑹$/𝑴𝑾𝒉) 310,30 \\n𝑮𝑭𝑶𝑴 (𝑴𝑾𝒎𝒆𝒅 ) 0 \\n \\n8 O cálculo do PLD gatilho considera os valores de expectativa de PLD com base na execução do modelo \\nDECOMP oficial da primeira semana operativa e a expectativa das próximas semanas desta mesma \\nrodada.  Os valores são obtidos considerando os custos marginais de operação disponíveis no arquivo \\n“cmdeco.rv0”, da CCEE, limitados pelos valores mínimo e máximo estrutural do PLD vigente. Considerando os valores para agosto de 2025, podemos observar as faixas para \\nacionamento das bandeiras tarifárias, após aplicar o cálculo do 𝑷𝑳𝑫𝒍𝒊𝒎𝒊𝒏𝒇_𝒑𝒂𝒕  e \\n𝑷𝑳𝑫𝒍𝒊𝒎𝒔𝒖𝒑_𝒑𝒂𝒕 . A Tabela 16 apresenta os limites de PLD para o acionamento das \\nbandeiras tarifárias: \\nTabela 16 – Limites para acionamento das bandeiras tarifárias \\nCor da Bandeira Gatilho \\nVerde   𝑅$ 58,6/𝑀𝑊ℎ <= 𝑃𝐿𝐷 <= 𝑅$ 74,27/𝑀𝑊ℎ \\nAmarela  𝑅$ 74,28/𝑀𝑊ℎ < 𝑃𝐿𝐷 <= 𝑅$ 186,46/𝑀𝑊ℎ  \\nVermelha 1  𝑅$ 186,47/𝑀𝑊ℎ < 𝑃𝐿𝐷 <= 𝑅$ 256,9/𝑀𝑊ℎ  \\nVermelha 2  𝑅$ 256,91/𝑀𝑊ℎ < 𝑃𝐿𝐷 <= 𝑅$ 751,73/𝑀𝑊ℎ  \\nCom base nas informações apresentadas e enviadas à ANEEL, a Agência divulgou no dia \\n25 de julho de 2025 a cor da bandeira tarifária do mês de agosto de 2025, conforme \\nmostrado na Tabela 17. \\nTabela 17 – Cor da Bandeira Tarifária de agosto de 2025 \\n \\n \\n \\nNota 1: Cabe destacar que o cálculo do 𝑃𝐿𝐷\\u0bdf\\u0bdc\\u0be0\\u0bdc\\u0be1\\u0bd9_\\u0be3\\u0bd4௧ e 𝑃𝐿𝐷\\u0bdf\\u0bdc\\u0be0௦௨\\u0be3_\\u0be3\\u0bd4௧ consideram os \\nvalores apresentados na Figura 5 da Nota Técnica nº 021/2021-SRG-SGT-SRM/ANEEL e \\no valor de 𝐺𝑆𝐹\\u0bd5\\u0bd4\\u0be1ௗ obtido pela proporção de 𝐺𝐻\\u0bd5\\u0bd4\\u0be1ௗ𝐺𝐹\\u0bd5\\u0bd4\\u0be1ௗ⁄ é considerado com \\narredondamento em duas casas decimais, seguindo solicitação da ANEEL. \\n \\n \\n9 Os valores de carga prevista para cada semana podem ser encontrados no arquivo de entrada \\n“dadger.rv0” do modelo DECOMP, no registro DP.  Sem 1 Sem 2 Sem 3 Sem 4 Sem 5 Sem 6\\nPesado 5 25 25 25 25 0\\nMédio 11 65 65 65 65 10\\nLeve 8 78 78 78 78 38\\nTotal 24 168 168 168 168 48PatamarNº de Horas por Patamar nas Semanas Operativas\\nSem 1 Sem 2 Sem 3 Sem 4 Sem 5 Sem 6\\nPesado 315,19 313,65 317,16 320,43 321,54 322,94\\nMédio 308,68 308,68 309,18 312,37 314,19 316,24\\nLeve 302,61 303,90 305,44 308,04 310,04 312,17\\nPesado 315,19 313,65 317,16 320,43 321,54 322,94\\nMédio 308,68 308,68 309,18 312,37 314,19 316,24\\nLeve 302,61 303,90 305,44 308,04 310,04 312,17\\nPesado 315,19 313,65 317,16 320,43 321,54 322,94\\nMédio 308,68 308,68 309,18 312,37 314,19 316,24\\nLeve 302,61 303,90 305,44 308,04 310,04 312,17\\nPesado 315,19 313,65 317,16 320,43 321,54 322,94\\nMédio 308,68 308,68 309,18 312,37 314,19 316,24\\nLeve 302,61 303,90 305,44 308,04 310,04 312,17Sudeste\\nSul\\nNord.\\nNorteSubm. PatamarExpectativa de PLD do modelo DECOMP(R$/MWh)\\n310,30\\n310,30\\n310,30\\n310,30PLDmédio\\nSem 1 Sem 2 Sem 3 Sem 4 Sem 5 Sem 6\\nPesado 46.219 45.880 45.793 46.431 46.442 48.093\\nMédio 47.259 47.062 46.984 47.550 47.559 47.680\\nLeve 36.255 36.341 36.276 36.749 36.757 37.837\\nPesado 15.516 15.572 15.578 15.607 15.588 15.836\\nMédio 15.732 15.728 15.734 15.759 15.742 15.259\\nLeve 11.082 11.057 11.061 11.081 11.068 11.133\\nPesado 12.121 12.499 12.573 12.735 12.875 13.217\\nMédio 13.602 13.910 13.979 14.129 14.259 14.031\\nLeve 11.333 11.623 11.686 11.823 11.942 11.866\\nPesado 7.977 8.107 8.129 8.293 8.309 8.596\\nMédio 8.552 8.686 8.707 8.865 8.881 8.786\\nLeve 7.638 7.765 7.786 7.937 7.951 7.90442.019\\n13.466\\n12.754\\n8.253Carga MédiaCARGA (MWmed)Patamar Subm.\\nSudeste\\nSul\\nNord.\\nNorte\\nAgosto de 2025\\nPLDgatilho (R$/MWh) 310,30Agosto de 2025 Vermelha 2Cor da Bandeira Tarifária\\n'"
            ]
          },
          "execution_count": 54,
          "metadata": {},
          "output_type": "execute_result"
        }
      ],
      "source": [
        "document"
      ]
    },
    {
      "cell_type": "code",
      "execution_count": 55,
      "metadata": {
        "id": "LZhrsALFLEV5"
      },
      "outputs": [],
      "source": [
        "# Cria e configura a nossa \"tesoura inteligente\" para cortar o texto\n",
        "text_splitter = RecursiveCharacterTextSplitter(\n",
        "    chunk_size=1000,   # Define que cada pedaço de texto terá, no máximo, 1000 caracteres\n",
        "    length_function=len,  # Informa qual a função para medir o tamanho do texto\n",
        "    is_separator_regex=False,  # Uma configuração técnica para os separadores abaixo\n",
        "    # Define a prioridade de corte: a tesoura tentará cortar primeiro\n",
        "    # onde houver um parágrafo em branco, para manter as ideias juntas\n",
        "    separators=[\"\\n\\n\"],\n",
        ")\n",
        "\n",
        "# Pega o nosso documento grande e usa a \"tesoura\" para cortá-lo\n",
        "# em uma lista de vários pedaços de texto menores\n",
        "texts = text_splitter.create_documents([document])\n",
        "\n",
        "# Prepara o \"tradutor de significados\" do Google. É ele que vai converter\n",
        "# os pedaços de texto em números que o computador entende\n",
        "embeddings = GoogleGenerativeAIEmbeddings(model=\"models/gemini-embedding-001\")\n",
        "\n",
        "# Cria a \"biblioteca\" ou \"índice\" do nosso documento. Ele pega os pedaços\n",
        "# de texto, usa o \"tradutor\" para criar uma versão numérica de cada um,\n",
        "# e organiza tudo para permitir uma busca de informações muito rápida\n",
        "vector_store = FAISS.from_documents(texts, embedding=embeddings)"
      ]
    },
    {
      "cell_type": "code",
      "execution_count": 56,
      "metadata": {
        "colab": {
          "base_uri": "https://localhost:8080/"
        },
        "id": "0eKZSddZLEV6",
        "outputId": "2032d590-f724-4b9b-9d38-d7bd606cc619"
      },
      "outputs": [
        {
          "name": "stdout",
          "output_type": "stream",
          "text": [
            "[Document(metadata={}, page_content=' \\n \\n \\n \\nwww.ccee.org.br Nº 88 - agosto/2025 0800 881 2233 \\n \\n \\n \\n \\n \\n \\nDesde novembro de 2017, a metodologia de acionamento das bandeiras tarifárias se \\nalterou, com a finalidade de melhorar a arrecadação de recursos para fazer frente a \\nimportantes obrigações financeiras de curto prazo que recaem sobre o fluxo de caixa \\ndas Distribuidoras, vinculados aos custos variáveis (custos de geração por fonte \\ntermelétrica e da exposição aos preços de liquidação no mercado de curto prazo) \\ndecorrentes do resultado da operação do Sistema Interligado Nacional – SIN1. \\nA sistemática de acionamento da bandeira tarifária aplicada até o mês de abril de 2018 \\nseguia o descrito nas Notas Técnicas nº 133/2017-SRG-SEM-SGT/ANEEL e nº 136/2017-\\nSRG-SEM-SGT/ANEEL, que suportavam a Audiência Pública nº 61/2017, da ANEEL, que \\ntinha como objetivo obter subsídios para a revisão da metodologia das Bandeiras \\nTarifárias. O voto do diretor relator do processo na ANEEL, que decidiu pela abertura da \\nAP citada no período de 26 de outubro a 27 de dezembro de 2017, também votou, por \\naplicar a sistemática em caráter extraordinário, a partir de novembro de 2017, diante \\nda relevante perspectiva de aprimoramento nela embutida e de sua potencial \\nrepercussão positiva sobre o acionamento das Bandeiras Tarifárias no curto prazo.  \\nPara o fechamento da primeira fase da AP nº 61/2017, a ANEEL divulgou a Nota Técnica \\nnº 040/2018-SRG-SRM-SGT/ANEEL com as considerações da AP em relação aos temas: \\ndefinição dos valores; regra de acionamento; e tratamento da cobertura tarifária. Nesta \\nNT foi definida a nova sistemática de acionamento da bandeira tarifária, com alterações \\nem relação a metodologia anteriormente aplicada. O voto do diretor relator do processo \\nna ANEEL foi de concluir a primeira fase da AP e pela aplicação da nova metodologia \\npara Bandeiras Tarifárias a partir do Programa Mensal da Operação (PMO) de dezembro \\nde 2018. \\nEm 2019, foi realizada e concluída a AP nº 08/2019, que revisou a metodologia de \\nacionamento das bandeiras tarifárias. Essa nova metodologia foi aprovada para \\nutilização a partir do mês de junho de 2019 e teve como principais alterações a revisão \\ndas faixas de acionamento da bandeira tarifária e também a consideração da garantia \\nfísica “Flat” para balizar a determinação do 𝐺𝑆𝐹\\u0bd5\\u0bd4\\u0be1ௗ.  \\nA partir de 1º de abril de 2024, através da REH 3.306/2024 e da REN 1.084/2024, a ANEEL \\nestabeleceu novas faixas de acionamento e adicionais das bandeiras tarifárias, no que \\nse refere a ocorrência de despacho termelétrico por razões de segurança energética, \\ndefinido fora da ordem de mérito econômico pelo Comitê de Monitoramento do Setor \\nElétrico – CMSE. \\nEste boletim tem o objetivo de detalhar a memória de cálculo que foi considerada como \\nsubsídio pela ANEEL para acionamento das bandeiras tarifárias. \\nMetodologia para definição da Bandeira Tarifária \\nOs valores das faixas de Preço de Liquidação das Diferenças – PLD para estabelecimento \\nda cor da bandeira tarifária que será vigente para o mês de agosto de 2025 são definidos \\nde acordo com os valores resultantes do cálculo dos PLDs limites e superiores das faixas \\nde acionamento. \\nO 𝑃𝐿𝐷\\u0bdf\\u0bdc\\u0be0\\u0bdc\\u0be1\\u0bd9_\\u0be3\\u0bd4௧ e o 𝑃𝐿𝐷\\u0bdf\\u0bdc\\u0be0௦௨\\u0be3_\\u0be3\\u0bd4௧ das diferentes faixas para o acionamento das \\nbandeiras tarifárias são determinados conforme as equações abaixo, definidas na Nota \\nTécnica nº 025/2019-SGT-SRG-SRM /ANEEL (uma versão mais recente do Ábaco de \\nAcionamento das Bandeiras Tarifárias pode ser encontrada no Anexo I da Resolução \\nHomologatória ANEEL 3.306/2024): \\n𝑷𝑳𝑫𝒍𝒊𝒎𝒊𝒏𝒇_𝒑𝒂𝒕 = 𝒎𝒊𝒏൦𝑷𝑳𝑫𝒎𝒂𝒙, 𝒎𝒂𝒙\\u124e𝑷𝑳𝑫𝒎𝒊𝒏 ,𝑳𝒊𝒎𝑰𝒏𝒇𝑷𝒂𝒕\\nቀ𝟏−𝑮𝑯𝒃𝒂𝒏𝒅\\n𝑮𝑭𝒃𝒂𝒏𝒅ቁ\\u124f൪ \\n𝑷𝑳𝑫𝒍𝒊𝒎𝒔𝒖𝒑_𝒑𝒂𝒕 = 𝒎𝒊𝒏൦𝑷𝑳𝑫𝒎𝒂𝒙, 𝒎𝒂𝒙\\u124e𝑷𝑳𝑫𝒎𝒊𝒏 ,𝑳𝒊𝒎𝑺𝒖𝒑𝑷𝒂𝒕\\nቀ𝟏−𝑮𝑯𝒃𝒂𝒏𝒅\\n𝑮𝑭𝒃𝒂𝒏𝒅ቁ\\u124f൪ \\nOnde: \\n𝑃𝐿𝐷\\u0be0\\u0bd4௫ – Valor máximo do PLD regulamentado pela ANEEL \\n𝑃𝐿𝐷\\u0be0\\u0bdc\\u0be1 – Valor mínimo do PLD regulamentado pela ANEEL \\n𝐺𝐻\\u0bd5\\u0bd4\\u0be1ௗ – Previsão de Geração Hidráulica total do MRE sinalizada pelo Programa Mensal \\nde Operação – PMO, ajustada pelos fatores de redução da CCEE \\n𝐺𝐹\\u0bd5\\u0bd4\\u0be1ௗ – Valor de garantia física concebido para as Bandeiras Tarifárias, segundo as \\nespecificidades apresentadas na NT nº 025/2019-SGT-SRG-SRM/ANEEL \\n𝐿𝑖𝑚𝐼𝑛𝑓𝑃𝑎𝑡  – Limite inferior do correspondente patamar de Bandeira Tarifária \\n \\n1 Nota Técnica 133/2017-SRG-SEM-SGT/ANEEL. 𝐿𝑖𝑚𝑆𝑢𝑝𝑃𝑎𝑡  – Limite superior do correspondente patamar de Bandeira Tarifária. \\nPara o acionamento da bandeira são consideradas as faixas de acordo com o ilustrado \\nna Tabela 1. \\nTabela 1 – Faixas para acionamento das bandeiras \\nCor da Bandeira Gatilho \\nVerde 𝑃𝐿𝐷\\u0be0\\u0bdc\\u0be1≤𝑃𝐿𝐷\\u0bda\\u0bd4௧\\u0bdc\\u0bdf\\u0bdb\\u0be2≤𝑃𝐿𝐷\\u0bdf\\u0bdc\\u0be0௦௨\\u0be3_௩\\u0bd8\\u0be5ௗ\\u0bd8 \\nAmarela 𝑃𝐿𝐷\\u0bdf\\u0bdc\\u0be0\\u0bdc\\u0be1\\u0bd9_\\u0bd4\\u0be0\\u0bd4\\u0be5\\u0bd8\\u0bdf\\u0bd4<𝑃𝐿𝐷\\u0bda\\u0bd4௧\\u0bdc\\u0bdf\\u0bdb\\u0be2≤𝑃𝐿𝐷\\u0bdf\\u0bdc\\u0be0௦௨\\u0be3_\\u0bd4\\u0be0\\u0bd4\\u0be5\\u0bd8\\u0bdf\\u0bd4 \\nVermelha 1 𝑃𝐿𝐷\\u0bdf\\u0bdc\\u0be0\\u0bdc\\u0be1\\u0bd9_௩\\u0bd8\\u0be5\\u0be0\\u0bd8\\u0bdf\\u0bdb\\u0be2ଵ<𝑃𝐿𝐷\\u0bda\\u0bd4௧\\u0bdc\\u0bdf\\u0bdb\\u0be2≤𝑃𝐿𝐷\\u0bdf\\u0bdc\\u0be0௦௨\\u0be3_௩\\u0bd8\\u0be5\\u0be0\\u0bd8\\u0bdf\\u0bdb\\u0be2ଵ \\nVermelha 2 𝑃𝐿𝐷\\u0bdf\\u0bdc\\u0be0\\u0bdc\\u0be1\\u0bd9_௩\\u0bd8\\u0be5\\u0be0\\u0bd8\\u0bdf\\u0bdb\\u0be2ଶ<𝑃𝐿𝐷\\u0bda\\u0bd4௧\\u0bdc\\u0bdf\\u0bdb\\u0be2≤𝑃𝐿𝐷\\u0be0\\u0bd4௫ \\nPara as situações específicas de despacho termelétrico definido fora da ordem de mérito \\neconômico, Geração Fora da Ordem de Mérito – GFOM, são considerados o \\nacionamento composto conforme apresentado na Tabela 2. \\nTabela 2 – Faixas de acionamento específico para situações de despacho termelétrico definido fora \\nda ordem de mérito econômico \\n \\nInformações para definição da Bandeira Tarifária \\nNesta seção é demonstrada a obtenção dos valores das variáveis utilizadas na definição \\nda Bandeira Tarifária do mês de agosto de 2025. \\ni) Previsão de Geração Hidráulica Total do MRE - 𝑮𝑯𝒃𝒂𝒏𝒅 \\nOs valores de expectativa de geração das usinas hidráulicas que balizam o cálculo do \\n𝐺𝐻\\u0bd5\\u0bd4\\u0be1ௗ são encaminhados pelo Operador Nacional do Sistema – ONS à Câmara de \\nComercialização de Energia Elétrica – CCEE. Os valores encaminhados pelo ONS já \\nconsideram à geração termelétrica e/ou importação por segurança energética quando \\nhouver determinação do Comitê de Monitoramento do Setor Elétrico; ressaltamos que \\nsobre estes valores são retiradas as parcelas de geração referentes: ao atendimento de \\nItaipu à carga do Paraguai e ao seu consumo interno; e à aplicação de fatores apurados \\npela CCEE com o objetivo de representar a geração participante do MRE no Centro de \\nGravidade. \\nA seguir são descritos os fatores aplicados pela CCEE nos valores de geração hidráulica \\nencaminhados pelo ONS: \\n\\uf0b7 Geração Hidráulica (Bruta para Conexão): representa a perda na geração \\ndas usinas hidrelétricas entre o ponto de medição bruta e o ponto de \\nmedição de conexão com a rede de transmissão; \\n\\uf0b7 Geração Hidráulica (Conexão para Centro de Gravidade): representa a \\naplicação dos fatores de perda da rede básica sobre a geração das usinas \\nhidrelétricas; \\n\\uf0b7 Participação de PCH (Pequenas Centrais Hidrelétricas) e CGH (Centrais de \\nGeração Hidrelétrica) no MRE: representa a parcela da geração de PCHs e \\nCGHs que participam do MRE; \\n\\uf0b7 PCH e CGH (Conexão para Centro de Gravidade): representa a aplicação dos \\nfatores de perda da rede básica para as usinas (PCH e CGH) participantes \\ndo rateio das perdas da rede básica. \\nPara a apuração dos fatores aplicados pela CCEE, uma vez que os dados de 2024 foram \\nconsolidados, são considerados as médias dos dados verificados para cada parcela ao \\nlongo do deste ano. Os resultados apurados para cada fator são apresentados na Tabela \\n3. \\n \\n Acionamento \\nOriginalDespacho Térmico Total \\n(MWm)Acionamento \\nCompostoAdicional \\n(R$/MWh)\\n<= 6.962 Verde 0\\n> 6.962 e <= 11.362 Amarela 18,85\\n> 11.362 e <= 14.262 Vermelha 1 44,63\\n> 14.262 e <= 16.562 Vermelha 2 78,77\\n<= 9.262 Amarela 18,85\\n> 9.262 e <= 12.162 Vermelha 1 44,63\\n> 12.162 e <= 16.562 Vermelha 2 78,77\\n<= 11.462 Vermelha 1 44,63\\n> 11.462 e <= 14.262 Vermelha 2 78,77\\nVermelho 2 <= 11.762 Vermelha 2 78,77Verde\\nAmarelo\\nVermelho 1\\n \\n \\n \\n0800 881 2233 ● www.ccee.org.br ● agosto/2025 \\n \\n \\n \\nO conteúdo desta publicação foi produzido pela CCEE com base em dados e informações de conhecimento público. É de responsabilidade exclusiva \\ndos agentes e demais interessados a obtenção de outros dados e informações, a realização de análises, estudos e avaliações para fins de tomada \\nde decisões, definição de estratégias de atuação, assunção de compromissos e obrigações e quaisquer outras finalidades, em qualquer tempo e \\nsob qualquer condição. É proibida a reprodução ou utilização total ou parcial do presente sem a identificação da fonte. \\n2 \\n \\n \\nTabela 3 – Fatores Aplicados à Geração Com Base na Média de 2024 \\n \\nEsses fatores, bem como a periodicidade de sua atualização, foram validados pela ANEEL \\npor meio do Ofício nº 068/2018 – SRG/ANEEL. \\nA geração total das usinas hidrelétricas é encaminhada pelo ONS para o mês de agosto \\nde 2025 e são ilustradas na Tabela 4, ressaltamos que os valores de geração hidráulica \\nsão resultados da execução do modelo DECOMP da revisão 0 do Programa Mensal da \\nOperação2. \\nTabela 4 – Geração Média Mensal com Segurança Energética  \\n \\nÉ descontada da geração hidrelétrica apresentada na Tabela 4, a parcela da geração da \\nusina hidrelétrica de Itaipu alocada para atendimento da carga do Paraguai (ANDE) e o \\nconsumo interno da usina explicitados na entrada de dados dos modelos \\ncomputacionais utilizados no cálculo do PLD e do Custo Marginal de Operação – CMO \\ndo ONS3, cujo somatório é apresentado na Tabela 5. \\nTabela 5 – Previsão de Geração de Itaipu para Atendimento da Carga do Paraguai e Consumo \\nInterno da Usina \\n \\nApós a obtenção da geração hidrelétrica descontados os valores de ANDE e consumo \\ninterno da UHE Itaipu, são aplicados os fatores apresentados na Tabela 3, com a \\nfinalidade de levar a geração hidráulica bruta para o ponto de conexão da usina e, \\nposteriormente, para levar o valor do ponto de conexão da usina para o centro de \\ngravidade. Desta forma, são obtidos os valores de geração das usinas hidrelétricas no \\ncentro de gravidade conforme Tabela 6.  \\nTabela 6 – Previsão de Geração das Usinas Hidrelétricas no Centro de Gravidade \\n \\nAlém da geração das usinas hidrelétrica no centro de gravidade, são considerados os \\nfatores da Tabela 3, com o intuito de representar a geração referente às PCHs e às CGHs4 \\nparticipante do MRE no centro de gravidade. As expectativas de geração destas fontes, \\nbem como seus valores no centro de gravidade são ilustradas na Tabela 7. \\nTabela 7 – Previsão de Geração de Pequenas Centrais Hidrelétricas pertencentes ao MRE \\n \\nA previsão de geração hidráulica total do MRE ( 𝐺𝐻\\u0bd5\\u0bd4\\u0be1ௗ) para o acionamento da \\nBandeira Tarifária no centro de gravidade é mostrada na Tabela 8. \\n \\n \\n \\n \\n2 A previsão de geração hidráulica enviada pelo ONS utiliza como base os valores de geração hidráulica \\npor usina, apresentados no arquivo “sumario.rv0”, obtido da execução do modelo DECOMP da revisão \\n0 do Programa Mensal da Operação, do ONS. \\n3 A previsão de geração de Itaipu e consumo interno são informados no arquivo de entrada de dados \\n“c_adic.dat” do modelo NEWAVE. \\n4 A expectativa da geração de PCHs e CGHs pode ser encontrada na planilha \\n“Usinas_não_simuladas_ago25.xlsx”, disponibilizada no SINtegre pelo ONS. Tabela 8 – Previsão de Geração Hidráulica do MRE no Centro de Gravidade \\n \\nii) Garantia Física Concebida para as Bandeiras Tarifárias - 𝑮𝑭𝒃𝒂𝒏𝒅 \\nConforme apresentado na Nota Técnica nº 35/2019-SRG-SRT- SRM/ANEEL, a GF band é \\nobtida considerando os valores de garantia física sazonalizada (100%), com o intuito de \\nGSF Flat tem maior correlação com as variáveis físicas do sistema e retira o componente \\nde estratégia comercial das geradoras da regra de acionamento, além de refletir o risco \\nhidrológico assumido pelas distribuidoras (consumidores cativos). \\nPara a garantia física “flat” de agosto de 2025 são considerados os valores de garantia \\nfísica sazonalizada apresentados no InfoMercado - Dados Abertos5, aplicando sobre \\nestes a proporção de sazonalização de agosto de 2025 (0,086759282945), conforme \\ndivulgado no conforme divulgado no Comunicado nº 071/25, de 24 de janeiro de 2025, \\ncom o intuito de obter o valor de garantia física “flat”. Além disso, são consideradas \\npossíveis expansões de garantia física devido à entrada em operação comercial de novas \\nunidades geradoras de usinas hidrelétricas conforme apresentado na Tabela 9. \\nTabela 9 – Garantia física “flat” \\n \\nSobre esse montante de garantia física são abatidas as perdas internas e de rede básica, \\ne o fator de disponibilidade, considerando estes valores com base no histórico de 12 \\nmeses6. Os valores de expectativa da garantia física “flat”, que é o valor da GF band, para \\no mês de agosto de 2025 são ilustrados na Tabela 10. \\nTabela 10 – Garantia Física Concebido para as Bandeiras Tarifárias \\n \\niii) Preço de Liquidação das Diferenças Gatilho - 𝑷𝑳𝑫𝒈𝒂𝒕𝒊𝒍𝒉𝒐 \\nO 𝑃𝐿𝐷\\u0bda\\u0bd4௧\\u0bdc\\u0bdf considerado para o acionamento da bandeira é calculado ponderando o \\nPLD médio mensal de cada submercado (obtido da execução do cálculo da Função de \\nCusto Futuro do modelo DECOMP da primeira semana operativa do mês de agosto de \\n2025 e a expectativa desta mesma execução para as próximas semanas do mês) pela \\nsua respectiva carga média mensal (disponível nos dados de entrada no modelo \\nDECOMP para a primeira semana e a expectativa para todas as semanas deste mesmo \\nmês), os quais são calculados considerando a duração de cada patamar por semana \\noperativa7 para o mês civil. A Tabela 11 mostra as durações de cada patamar para cada \\nsemana do mês de agosto de 2025. \\n \\n \\n5 Conjunto de dados “GARANTIA_FISICA_SAZO_SUBMERCADO”, coluna “GF_SAZO_ \\nUSINAS_MRE_MOTORIZADA”, atualizado em 02 de julho de 2025 \\n6 Disponível no conjunto de dados “MRE_MENSAL”, coluna “FATOR_REDUCAO_ ACUMULADO” \\ndisponível até o mês de junho de 2025  \\n7 Conforme disponível na planilha “Patamares Consolidados por Semana e Mês”, disponível no site da \\nCCEE > Documentos > Acervo CCEE > Buscar “Patamares de Carga” 1,335%\\n2,151%\\n64,973%\\n0,076%Perda de Geração Hidráulica (Conexão p/ Centro de Gravidade)\\nParticipação de PCH e CGH no MRE\\nPerda de PCH e CGH (Conexão p/ Centro de Gravidade)Perda de Geração Hidráulica (Bruta p/ Conexão)Fatores Aplicados à Geração Com Base na Média de 2024\\nPesada Média Leve (MWh) (MWmed)\\n5.390.741 10.845.428 10.147.450 26.383.619 35.462Geração Média Mensal Com Segurança Energética do SIN\\nPor Patamar (MWh) Total\\nGeração (MWmed)\\nANDE + C. I. Itaipu 2.610\\nGeração (MWmed)\\nGH ONS 35.462\\nANDE + C. I. Itaipu 2.610\\nGH Bruta 32.852\\nGH Conexão 32.413\\nGH Centro Grav. 31.716\\nSubmercadoPrev. de \\nGeraçãoTotalParticipação \\nno MREPart. MRE no \\nCentro Grav.\\nSudeste 1.362\\nSul 1.013\\nNordeste 75\\nNorte 1012.551 1.657PCH e CGH (MWmed)\\n1.656Geração (MWmed)\\nGH Centro Grav. 31.716\\nPCH e CGH Centro Grav. 1.656\\nGHband 33.372\\nSubmercadoGarantia Física \\nSazonalizada sem \\nexpansão \\n(MWmed)Garantia Física \\n\"Flat\" sem \\nexpansãoExpansão de \\nGarantia Física \\n(MWmed)\\nSudeste 33.057 32.360 0\\nSul 8.296 8.122 0\\nNordeste 5.062 4.955 0\\nNorte 10.184 9.970 0\\nSIN 56.599 55.407 0\\nSubmercadoGarantia Física \\n\"Flat\" (MWmed)Garantia Física \\n\"Flat\" deduzida as \\nperdas (MWmed)GFband \\n(MWmed)\\nSudeste 32.360 30.973\\nSul 8.122 7.773\\nNordeste 4.955 4.742\\nNorte 9.970 9.543\\nSIN 55.407 53.03253.032\\n \\n \\n \\n0800 881 2233 ● www.ccee.org.br ● agosto/2025 \\n \\n \\n \\nO conteúdo desta publicação foi produzido pela CCEE com base em dados e informações de conhecimento público. É de responsabilidade exclusiva \\ndos agentes e demais interessados a obtenção de outros dados e informações, a realização de análises, estudos e avaliações para fins de tomada \\nde decisões, definição de estratégias de atuação, assunção de compromissos e obrigações e quaisquer outras finalidades, em qualquer tempo e \\nsob qualquer condição. É proibida a reprodução ou utilização total ou parcial do presente sem a identificação da fonte. \\n3 \\n \\n \\n \\nTabela 11 – Número de horas de cada semana e patamar de carga para o mês de agosto de 2025 \\n \\nOs valores de PLD para o cálculo do PLD gatilho, considerando a média mensal são \\nobtidos da simulação do DECOMP da primeira semana operativa de agosto de 2025 do \\ncálculo do PLD, o mesmo que estabelece a função de custo futuro para o modelo \\nDESSEM da primeira semana operativa do mês, e uma expectativa de PLD para as \\npróximas semanas8. Estes valores de expectativa de PLD para cada semana são \\napresentados na Tabela 12. \\nTabela 12 – Resultado da Função de Custo Futuro do DECOMP para a primeira semana de agosto e \\nexpectativa para as demais semanas \\n \\nOs valores de carga prevista para cada semana9, utilizados no cálculo da carga média \\nmensal de cada submercado para ponderar o PLD médio mensal de cada submercado, \\nsão apresentados na Tabela 13. \\nTabela 13 – Expectativa de carga para cada semana e patamar e a média mensal de agosto de 2025 \\npor submercado \\n \\nDesta forma, a Tabela 14 ilustra o 𝑃𝐿𝐷\\u0bda\\u0bd4௧\\u0bdc\\u0bdf de agosto de 2025: \\nTabela 14 – PLD gatilho de agosto de 2025 \\n \\nDefinição da Bandeira Tarifária de agosto de 2025 \\nPara agosto de 2025, os valores considerados para cada variável estão ilustrados na \\nTabela 15: \\nTabela 15 – Valores das Variáveis para definição da Bandeira Tarifária \\nVariável Valor \\n𝑷𝑳𝑫𝒎𝒂𝒙_𝒆𝒔𝒕𝒓𝒖𝒕𝒖𝒓𝒂𝒍 (𝑹$/𝑴𝑾𝒉) 751,73 \\n𝑷𝑳𝑫𝒎𝒊𝒏 (𝑹$/𝑴𝑾𝒉) 58,60 \\n𝑮𝑯𝒃𝒂𝒏𝒅 (𝑴𝑾𝒎𝒆𝒅 ) 33.372 \\n𝑮𝑭𝒃𝒂𝒏𝒅 (𝑴𝑾𝒎𝒆𝒅 ) 53.032 \\n𝑮𝑺𝑭𝒃𝒂𝒏𝒅 0,63 \\n𝑷𝑳𝑫𝒈𝒂𝒕𝒊𝒍𝒉𝒐(𝑹$/𝑴𝑾𝒉) 310,30 \\n𝑮𝑭𝑶𝑴 (𝑴𝑾𝒎𝒆𝒅 ) 0 \\n \\n8 O cálculo do PLD gatilho considera os valores de expectativa de PLD com base na execução do modelo \\nDECOMP oficial da primeira semana operativa e a expectativa das próximas semanas desta mesma \\nrodada.  Os valores são obtidos considerando os custos marginais de operação disponíveis no arquivo \\n“cmdeco.rv0”, da CCEE, limitados pelos valores mínimo e máximo estrutural do PLD vigente. Considerando os valores para agosto de 2025, podemos observar as faixas para \\nacionamento das bandeiras tarifárias, após aplicar o cálculo do 𝑷𝑳𝑫𝒍𝒊𝒎𝒊𝒏𝒇_𝒑𝒂𝒕  e \\n𝑷𝑳𝑫𝒍𝒊𝒎𝒔𝒖𝒑_𝒑𝒂𝒕 . A Tabela 16 apresenta os limites de PLD para o acionamento das \\nbandeiras tarifárias: \\nTabela 16 – Limites para acionamento das bandeiras tarifárias \\nCor da Bandeira Gatilho \\nVerde   𝑅$ 58,6/𝑀𝑊ℎ <= 𝑃𝐿𝐷 <= 𝑅$ 74,27/𝑀𝑊ℎ \\nAmarela  𝑅$ 74,28/𝑀𝑊ℎ < 𝑃𝐿𝐷 <= 𝑅$ 186,46/𝑀𝑊ℎ  \\nVermelha 1  𝑅$ 186,47/𝑀𝑊ℎ < 𝑃𝐿𝐷 <= 𝑅$ 256,9/𝑀𝑊ℎ  \\nVermelha 2  𝑅$ 256,91/𝑀𝑊ℎ < 𝑃𝐿𝐷 <= 𝑅$ 751,73/𝑀𝑊ℎ  \\nCom base nas informações apresentadas e enviadas à ANEEL, a Agência divulgou no dia \\n25 de julho de 2025 a cor da bandeira tarifária do mês de agosto de 2025, conforme \\nmostrado na Tabela 17. \\nTabela 17 – Cor da Bandeira Tarifária de agosto de 2025 \\n \\n \\n \\nNota 1: Cabe destacar que o cálculo do 𝑃𝐿𝐷\\u0bdf\\u0bdc\\u0be0\\u0bdc\\u0be1\\u0bd9_\\u0be3\\u0bd4௧ e 𝑃𝐿𝐷\\u0bdf\\u0bdc\\u0be0௦௨\\u0be3_\\u0be3\\u0bd4௧ consideram os \\nvalores apresentados na Figura 5 da Nota Técnica nº 021/2021-SRG-SGT-SRM/ANEEL e \\no valor de 𝐺𝑆𝐹\\u0bd5\\u0bd4\\u0be1ௗ obtido pela proporção de 𝐺𝐻\\u0bd5\\u0bd4\\u0be1ௗ𝐺𝐹\\u0bd5\\u0bd4\\u0be1ௗ⁄ é considerado com \\narredondamento em duas casas decimais, seguindo solicitação da ANEEL. \\n \\n \\n9 Os valores de carga prevista para cada semana podem ser encontrados no arquivo de entrada \\n“dadger.rv0” do modelo DECOMP, no registro DP.  Sem 1 Sem 2 Sem 3 Sem 4 Sem 5 Sem 6\\nPesado 5 25 25 25 25 0\\nMédio 11 65 65 65 65 10\\nLeve 8 78 78 78 78 38\\nTotal 24 168 168 168 168 48PatamarNº de Horas por Patamar nas Semanas Operativas\\nSem 1 Sem 2 Sem 3 Sem 4 Sem 5 Sem 6\\nPesado 315,19 313,65 317,16 320,43 321,54 322,94\\nMédio 308,68 308,68 309,18 312,37 314,19 316,24\\nLeve 302,61 303,90 305,44 308,04 310,04 312,17\\nPesado 315,19 313,65 317,16 320,43 321,54 322,94\\nMédio 308,68 308,68 309,18 312,37 314,19 316,24\\nLeve 302,61 303,90 305,44 308,04 310,04 312,17\\nPesado 315,19 313,65 317,16 320,43 321,54 322,94\\nMédio 308,68 308,68 309,18 312,37 314,19 316,24\\nLeve 302,61 303,90 305,44 308,04 310,04 312,17\\nPesado 315,19 313,65 317,16 320,43 321,54 322,94\\nMédio 308,68 308,68 309,18 312,37 314,19 316,24\\nLeve 302,61 303,90 305,44 308,04 310,04 312,17Sudeste\\nSul\\nNord.\\nNorteSubm. PatamarExpectativa de PLD do modelo DECOMP(R$/MWh)\\n310,30\\n310,30\\n310,30\\n310,30PLDmédio\\nSem 1 Sem 2 Sem 3 Sem 4 Sem 5 Sem 6\\nPesado 46.219 45.880 45.793 46.431 46.442 48.093\\nMédio 47.259 47.062 46.984 47.550 47.559 47.680\\nLeve 36.255 36.341 36.276 36.749 36.757 37.837\\nPesado 15.516 15.572 15.578 15.607 15.588 15.836\\nMédio 15.732 15.728 15.734 15.759 15.742 15.259\\nLeve 11.082 11.057 11.061 11.081 11.068 11.133\\nPesado 12.121 12.499 12.573 12.735 12.875 13.217\\nMédio 13.602 13.910 13.979 14.129 14.259 14.031\\nLeve 11.333 11.623 11.686 11.823 11.942 11.866\\nPesado 7.977 8.107 8.129 8.293 8.309 8.596\\nMédio 8.552 8.686 8.707 8.865 8.881 8.786\\nLeve 7.638 7.765 7.786 7.937 7.951 7.90442.019\\n13.466\\n12.754\\n8.253Carga MédiaCARGA (MWmed)Patamar Subm.\\nSudeste\\nSul\\nNord.\\nNorte\\nAgosto de 2025\\nPLDgatilho (R$/MWh) 310,30Agosto de 2025 Vermelha 2Cor da Bandeira Tarifária\\n')]\n"
          ]
        }
      ],
      "source": [
        "print(texts)"
      ]
    },
    {
      "cell_type": "code",
      "execution_count": 57,
      "metadata": {
        "id": "vZRrbNeWLEV6"
      },
      "outputs": [],
      "source": [
        "# É um texto que diz exatamente qual é o trabalho da IA\n",
        "template=\"\"\"You are an assistant for question-answering tasks. Use the following pieces of retrieved context to answer the question. If you don't know the answer, just say that you don't know.\n",
        "\n",
        "Question: {question}\n",
        "\n",
        "Context: {context}\n",
        "\n",
        "Answer (brazilian portuguese):\"\"\"\n",
        "\n",
        "# Esta linha pega o roteiro acima e o transforma em um \"molde\" formal,\n",
        "# que o sistema usará para encaixar a pergunta e os textos de forma automática\n",
        "prompt = ChatPromptTemplate.from_template(template)\n",
        "\n",
        "# Aqui, nós \"ligamos\" e configuramos o cérebro da operação (o modelo de IA do Google).\n",
        "llm = ChatGoogleGenerativeAI(\n",
        "    # Escolhemos a versão do cérebro a ser usada: o \"gemini-1.5-flash\".\n",
        "    model=\"gemini-1.5-flash\",\n",
        "    # Com 'temperatura' 0, a IA será 100% objetiva e fiel ao texto, sem usar a criatividade.\n",
        "    temperature=0,\n",
        "    # Define o tamanho máximo da resposta (aqui, sem um limite específico).\n",
        "    max_tokens=None,\n",
        "    # Define o tempo máximo de espera por uma resposta.\n",
        "    timeout=None,\n",
        "    # Se a conexão falhar, ele tentará se reconectar mais 2 vezes.\n",
        "    max_retries=2,\n",
        ")"
      ]
    },
    {
      "cell_type": "code",
      "execution_count": 58,
      "metadata": {
        "id": "TH8Z4TMuLEV6"
      },
      "outputs": [],
      "source": [
        "# Faz uma busca na \"biblioteca\" que criamos para encontrar os 2 trechos\n",
        "# de texto mais parecidos com a sua pergunta\n",
        "\n",
        "# question = \"Qual é a cor da bandeira tarifária para agosto de 2025?\"\n",
        "# question = \"Qual foi o valor do PLD gatilho considerado para agosto de 2025?\"\n",
        "question = \"Qual o objetivo deste boletim?\"\n",
        "\n",
        "retrieved_docs = vector_store.similarity_search(question, k=2)"
      ]
    },
    {
      "cell_type": "code",
      "execution_count": 59,
      "metadata": {
        "id": "MntPIhQt1RFX"
      },
      "outputs": [],
      "source": [
        "# Junta os trechos de texto encontrados em um único bloco de texto,\n",
        "# separado por um espaço, para facilitar a leitura pela IA\n",
        "docs_content = \"\\n\\n\".join(doc.page_content for doc in retrieved_docs)\n",
        "\n",
        "# Preenche o \"molde de instruções\" que definimos antes. Ele insere a sua\n",
        "# pergunta e os textos encontrados nos seus devidos lugares\n",
        "messages = prompt.invoke({\"question\": question, \"context\": docs_content})\n",
        "\n",
        "# Envia o prompt final (com as instruções, a pergunta e o contexto)\n",
        "# para o \"cérebro\" da IA, que então gera a resposta\n",
        "response = llm.invoke(messages)"
      ]
    },
    {
      "cell_type": "code",
      "execution_count": 60,
      "metadata": {
        "colab": {
          "base_uri": "https://localhost:8080/",
          "height": 35
        },
        "id": "a7SW2oyzsum1",
        "outputId": "517d047b-09ef-4836-85a3-6215a43b4091"
      },
      "outputs": [
        {
          "data": {
            "application/vnd.google.colaboratory.intrinsic+json": {
              "type": "string"
            },
            "text/plain": [
              "'O objetivo deste boletim é detalhar a memória de cálculo considerada pela ANEEL como subsídio para o acionamento das bandeiras tarifárias.'"
            ]
          },
          "execution_count": 60,
          "metadata": {},
          "output_type": "execute_result"
        }
      ],
      "source": [
        "response.content"
      ]
    }
  ],
  "metadata": {
    "accelerator": "GPU",
    "colab": {
      "gpuType": "T4",
      "provenance": []
    },
    "kernelspec": {
      "display_name": "Python 3",
      "name": "python3"
    },
    "language_info": {
      "codemirror_mode": {
        "name": "ipython",
        "version": 3
      },
      "file_extension": ".py",
      "mimetype": "text/x-python",
      "name": "python",
      "nbconvert_exporter": "python",
      "pygments_lexer": "ipython3",
      "version": "3.11.9"
    }
  },
  "nbformat": 4,
  "nbformat_minor": 0
}
